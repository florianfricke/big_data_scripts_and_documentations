{
 "cells": [
  {
   "cell_type": "markdown",
   "metadata": {},
   "source": [
    "# Analyse the Data Quality from December 2019"
   ]
  },
  {
   "cell_type": "markdown",
   "metadata": {},
   "source": [
    "**Note: The analysis were not continued because the focus was on the historical data of the CouchDB.**\n",
    "\n",
    "To use the notebook, the following Python modules must be installed from the command line.\n",
    "\n",
    "\n",
    "`pip install pandas`\n",
    "\n",
    "`pip install tqdm`"
   ]
  },
  {
   "cell_type": "code",
   "execution_count": 1,
   "metadata": {},
   "outputs": [],
   "source": [
    "import findspark\n",
    "findspark.init() #necessary to find the local spark\n",
    "import pandas as pd\n",
    "from tqdm import tqdm_notebook as tqdm\n",
    "from pyspark.sql import Row, SparkSession\n",
    "from pyspark import SparkContext\n",
    "from pyspark.sql.types import IntegerType, StringType, DoubleType, BooleanType, TimestampType, StructField, StructType\n",
    "from pyspark.sql.functions import col, sum"
   ]
  },
  {
   "cell_type": "code",
   "execution_count": 2,
   "metadata": {},
   "outputs": [],
   "source": [
    "sc = SparkContext()\n",
    "spark = SparkSession.builder\\\n",
    "        .getOrCreate()"
   ]
  },
  {
   "cell_type": "markdown",
   "metadata": {},
   "source": [
    "**Note:** Before the files can be read, they must be transferred to the HDFS. (For procedure, see documentation / installation instructions)"
   ]
  },
  {
   "cell_type": "markdown",
   "metadata": {},
   "source": [
    "## asr32.json - Hochregallager/Palettenlager"
   ]
  },
  {
   "cell_type": "code",
   "execution_count": 3,
   "metadata": {},
   "outputs": [],
   "source": [
    "df_asr = spark.read.json('hdfs://141.56.180.140:9000/user/hadoop/IotTestbed_Dateien/ASR32.json')"
   ]
  },
  {
   "cell_type": "code",
   "execution_count": 4,
   "metadata": {},
   "outputs": [],
   "source": [
    "# rename columns\n",
    "df_asr = df_asr.withColumnRenamed(\"Mes.diONo\",\"Mes_diONo\")\\\n",
    "        .withColumnRenamed(\"Mes.diPNo\",\"Mes_diPNo\")\\\n",
    "        .withColumnRenamed(\"Mes.iOPos\",\"Mes_iOPos\")\\\n",
    "        .withColumnRenamed(\"Mes.iOpNo\",\"Mes_iOpNo\")\\\n",
    "        .withColumnRenamed(\"Mes.iResourceId\",\"Mes_iResourceId\")"
   ]
  },
  {
   "cell_type": "code",
   "execution_count": 5,
   "metadata": {},
   "outputs": [],
   "source": [
    "# Creates a temporary view using the DataFrame\n",
    "df_asr.createOrReplaceTempView(\"asr32\")"
   ]
  },
  {
   "cell_type": "code",
   "execution_count": 6,
   "metadata": {
    "scrolled": true
   },
   "outputs": [
    {
     "name": "stdout",
     "output_type": "stream",
     "text": [
      "root\n",
      " |-- Mes_diONo: string (nullable = true)\n",
      " |-- Mes_diPNo: string (nullable = true)\n",
      " |-- Mes_iOPos: string (nullable = true)\n",
      " |-- Mes_iOpNo: string (nullable = true)\n",
      " |-- Mes_iResourceId: string (nullable = true)\n",
      " |-- broker_timestamp: long (nullable = true)\n",
      " |-- iCarrierID: string (nullable = true)\n",
      " |-- iCode: string (nullable = true)\n",
      " |-- iPar1: string (nullable = true)\n",
      " |-- iPar2: string (nullable = true)\n",
      " |-- iPar3: string (nullable = true)\n",
      " |-- iPar4: string (nullable = true)\n",
      " |-- modul: string (nullable = true)\n",
      " |-- sensor: string (nullable = true)\n",
      " |-- subpart: string (nullable = true)\n",
      " |-- timestamp: long (nullable = true)\n",
      " |-- topic: string (nullable = true)\n",
      " |-- value: boolean (nullable = true)\n",
      "\n"
     ]
    }
   ],
   "source": [
    "# df.first()\n",
    "df_asr.printSchema()"
   ]
  },
  {
   "cell_type": "code",
   "execution_count": 7,
   "metadata": {},
   "outputs": [
    {
     "name": "stdout",
     "output_type": "stream",
     "text": [
      "(7820, 18)\n"
     ]
    }
   ],
   "source": [
    "# no. rows, no. columns\n",
    "print((df_asr.count(), len(df_asr.columns)))"
   ]
  },
  {
   "cell_type": "code",
   "execution_count": 9,
   "metadata": {
    "scrolled": true
   },
   "outputs": [
    {
     "name": "stdout",
     "output_type": "stream",
     "text": [
      "+---------+---------+---------+---------+---------------+----------+-----+-----+-----+-----+-----+--------+-------+-----+\n",
      "|Mes_diONo|Mes_diPNo|Mes_iOPos|Mes_iOpNo|Mes_iResourceId|iCarrierID|iCode|iPar1|iPar2|iPar3|iPar4|sensor  |subpart|value|\n",
      "+---------+---------+---------+---------+---------------+----------+-----+-----+-----+-----+-----+--------+-------+-----+\n",
      "|null     |null     |null     |null     |null           |null      |null |null |null |null |null |xG1_BG21|Band1  |true |\n",
      "|null     |null     |null     |null     |null           |null      |null |null |null |null |null |xG1_BG36|Band2  |true |\n",
      "|null     |null     |null     |null     |null           |null      |null |null |null |null |null |xK1_MB20|Band1  |true |\n",
      "|null     |null     |null     |null     |null           |null      |null |null |null |null |null |xG1_BG20|Band1  |true |\n",
      "|null     |null     |null     |null     |null           |null      |null |null |null |null |null |xG1_BG21|Band1  |false|\n",
      "|null     |null     |null     |null     |null           |null      |null |null |null |null |null |xG1_BG36|Band2  |false|\n",
      "|0        |0        |0        |0        |0              |7         |0    |0    |0    |0    |0    |1       |Band1  |null |\n",
      "|null     |null     |null     |null     |null           |null      |null |null |null |null |null |xG1_BG37|Band2  |true |\n",
      "|null     |null     |null     |null     |null           |null      |null |null |null |null |null |xK1_MB20|Band1  |false|\n",
      "|null     |null     |null     |null     |null           |null      |null |null |null |null |null |xG1_BG20|Band1  |false|\n",
      "|null     |null     |null     |null     |null           |null      |null |null |null |null |null |xG1_BG37|Band2  |false|\n",
      "|null     |null     |null     |null     |null           |null      |null |null |null |null |null |xG1_BG26|Band1  |true |\n",
      "|null     |null     |null     |null     |null           |null      |null |null |null |null |null |xG1_BG26|Band1  |false|\n",
      "|null     |null     |null     |null     |null           |null      |null |null |null |null |null |xG1_BG34|Band2  |true |\n",
      "|null     |null     |null     |null     |null           |null      |null |null |null |null |null |xG1_BG27|Band1  |true |\n",
      "|null     |null     |null     |null     |null           |null      |null |null |null |null |null |xG1_BG31|Band2  |true |\n",
      "|null     |null     |null     |null     |null           |null      |null |null |null |null |null |xG1_BG34|Band2  |false|\n",
      "|null     |null     |null     |null     |null           |null      |null |null |null |null |null |xG1_BG27|Band1  |false|\n",
      "|null     |null     |null     |null     |null           |null      |null |null |null |null |null |xK1_MB30|Band2  |true |\n",
      "|null     |null     |null     |null     |null           |null      |null |null |null |null |null |xG1_BG30|Band2  |true |\n",
      "|null     |null     |null     |null     |null           |null      |null |null |null |null |null |xG1_BG31|Band2  |false|\n",
      "|0        |0        |0        |0        |0              |18        |0    |0    |0    |0    |0    |2       |Band2  |null |\n",
      "|null     |null     |null     |null     |null           |null      |null |null |null |null |null |xK1_MB30|Band2  |false|\n",
      "|null     |null     |null     |null     |null           |null      |null |null |null |null |null |xG1_BG30|Band2  |false|\n",
      "|null     |null     |null     |null     |null           |null      |null |null |null |null |null |xG1_BG24|Band1  |true |\n",
      "|null     |null     |null     |null     |null           |null      |null |null |null |null |null |xG1_BG21|Band1  |true |\n",
      "|null     |null     |null     |null     |null           |null      |null |null |null |null |null |xG1_BG24|Band1  |false|\n",
      "|null     |null     |null     |null     |null           |null      |null |null |null |null |null |xG1_BG36|Band2  |true |\n",
      "|null     |null     |null     |null     |null           |null      |null |null |null |null |null |xK1_MB20|Band1  |true |\n",
      "|null     |null     |null     |null     |null           |null      |null |null |null |null |null |xG1_BG20|Band1  |true |\n",
      "+---------+---------+---------+---------+---------------+----------+-----+-----+-----+-----+-----+--------+-------+-----+\n",
      "only showing top 30 rows\n",
      "\n"
     ]
    }
   ],
   "source": [
    "spark.sql(\"SELECT Mes_diONo, Mes_diPNo, Mes_iOPos, Mes_iOpNo, Mes_iResourceId, iCarrierID, iCode, \\\n",
    "            iPar1, iPar2, iPar3, iPar4, sensor, subpart, value FROM asr32\").show(30, False)"
   ]
  },
  {
   "cell_type": "code",
   "execution_count": 10,
   "metadata": {},
   "outputs": [
    {
     "name": "stdout",
     "output_type": "stream",
     "text": [
      "+----------------+-----+----+----+\n",
      "|iCarrierID_value|false|null|true|\n",
      "+----------------+-----+----+----+\n",
      "|            null| 3654|   0|3658|\n",
      "|              12|    0|  26|   0|\n",
      "|               8|    0|  28|   0|\n",
      "|              23|    0|  35|   0|\n",
      "|               4|    0|  26|   0|\n",
      "|              15|    0|  29|   0|\n",
      "|              11|    0|  28|   0|\n",
      "|               9|    0|  22|   0|\n",
      "|              22|    0|   3|   0|\n",
      "|              13|    0|  33|   0|\n",
      "+----------------+-----+----+----+\n",
      "only showing top 10 rows\n",
      "\n"
     ]
    }
   ],
   "source": [
    "# frequency distribution for iCarrierID and value\n",
    "df_asr.crosstab('iCarrierID', 'value').show(10)"
   ]
  },
  {
   "cell_type": "markdown",
   "metadata": {},
   "source": [
    "#### Number of Null-Value per Column"
   ]
  },
  {
   "cell_type": "code",
   "execution_count": 115,
   "metadata": {},
   "outputs": [
    {
     "name": "stdout",
     "output_type": "stream",
     "text": [
      "+-----------+----------------+\n",
      "|NULL_VALUES|count(Mes_diONo)|\n",
      "+-----------+----------------+\n",
      "|7312       |508             |\n",
      "+-----------+----------------+\n",
      "\n",
      "+-----------+----------------+\n",
      "|NULL_VALUES|count(Mes_diPNo)|\n",
      "+-----------+----------------+\n",
      "|7312       |508             |\n",
      "+-----------+----------------+\n",
      "\n",
      "+-----------+----------------+\n",
      "|NULL_VALUES|count(Mes_iOPos)|\n",
      "+-----------+----------------+\n",
      "|7312       |508             |\n",
      "+-----------+----------------+\n",
      "\n",
      "+-----------+----------------+\n",
      "|NULL_VALUES|count(Mes_iOpNo)|\n",
      "+-----------+----------------+\n",
      "|7312       |508             |\n",
      "+-----------+----------------+\n",
      "\n",
      "+-----------+----------------------+\n",
      "|NULL_VALUES|count(Mes_iResourceId)|\n",
      "+-----------+----------------------+\n",
      "|7312       |508                   |\n",
      "+-----------+----------------------+\n",
      "\n",
      "+-----------+-----------------------+\n",
      "|NULL_VALUES|count(broker_timestamp)|\n",
      "+-----------+-----------------------+\n",
      "|0          |7820                   |\n",
      "+-----------+-----------------------+\n",
      "\n",
      "+-----------+-----------------+\n",
      "|NULL_VALUES|count(iCarrierID)|\n",
      "+-----------+-----------------+\n",
      "|7312       |508              |\n",
      "+-----------+-----------------+\n",
      "\n",
      "+-----------+------------+\n",
      "|NULL_VALUES|count(iCode)|\n",
      "+-----------+------------+\n",
      "|7312       |508         |\n",
      "+-----------+------------+\n",
      "\n",
      "+-----------+------------+\n",
      "|NULL_VALUES|count(iPar1)|\n",
      "+-----------+------------+\n",
      "|7312       |508         |\n",
      "+-----------+------------+\n",
      "\n",
      "+-----------+------------+\n",
      "|NULL_VALUES|count(iPar2)|\n",
      "+-----------+------------+\n",
      "|7312       |508         |\n",
      "+-----------+------------+\n",
      "\n",
      "+-----------+------------+\n",
      "|NULL_VALUES|count(iPar3)|\n",
      "+-----------+------------+\n",
      "|7312       |508         |\n",
      "+-----------+------------+\n",
      "\n",
      "+-----------+------------+\n",
      "|NULL_VALUES|count(iPar4)|\n",
      "+-----------+------------+\n",
      "|7312       |508         |\n",
      "+-----------+------------+\n",
      "\n",
      "+-----------+------------+\n",
      "|NULL_VALUES|count(modul)|\n",
      "+-----------+------------+\n",
      "|0          |7820        |\n",
      "+-----------+------------+\n",
      "\n",
      "+-----------+-------------+\n",
      "|NULL_VALUES|count(sensor)|\n",
      "+-----------+-------------+\n",
      "|0          |7820         |\n",
      "+-----------+-------------+\n",
      "\n",
      "+-----------+--------------+\n",
      "|NULL_VALUES|count(subpart)|\n",
      "+-----------+--------------+\n",
      "|0          |7820          |\n",
      "+-----------+--------------+\n",
      "\n",
      "+-----------+----------------+\n",
      "|NULL_VALUES|count(timestamp)|\n",
      "+-----------+----------------+\n",
      "|0          |7820            |\n",
      "+-----------+----------------+\n",
      "\n",
      "+-----------+------------+\n",
      "|NULL_VALUES|count(topic)|\n",
      "+-----------+------------+\n",
      "|0          |7820        |\n",
      "+-----------+------------+\n",
      "\n",
      "+-----------+------------+\n",
      "|NULL_VALUES|count(value)|\n",
      "+-----------+------------+\n",
      "|508        |7312        |\n",
      "+-----------+------------+\n",
      "\n"
     ]
    }
   ],
   "source": [
    " for col in df_asr.columns:\n",
    "        sql_string = \"SELECT COUNT(*) - COUNT({}) AS NULL_VALUES, COUNT({}) FROM asr32\".format(col, col)\n",
    "        spark.sql(sql_string).show(20, False)"
   ]
  },
  {
   "cell_type": "markdown",
   "metadata": {},
   "source": [
    "#### sensor-values alternierend"
   ]
  },
  {
   "cell_type": "code",
   "execution_count": 16,
   "metadata": {
    "scrolled": true
   },
   "outputs": [
    {
     "name": "stdout",
     "output_type": "stream",
     "text": [
      "+------------+-----+----+----+\n",
      "|sensor_value|false|null|true|\n",
      "+------------+-----+----+----+\n",
      "|    xLA_BG51|   16|   0|  17|\n",
      "|    xG1_BG23|   40|   0|  40|\n",
      "|     xQA1_A1|   29|   0|  29|\n",
      "|    xK1_MB20|  254|   0| 254|\n",
      "|    xG1_BG34|   21|   0|  20|\n",
      "|    xLA_MB52|   17|   0|  16|\n",
      "|    xG1_BG27|  254|   0| 254|\n",
      "|    xG1_BG24|   27|   0|  27|\n",
      "|    xLA_BG57|   33|   0|  33|\n",
      "|    xLA_BG50|   17|   0|  16|\n",
      "|    xLA_MB55|   62|   0|  62|\n",
      "|    xU1_BG51|   58|   0|  58|\n",
      "|     xQA2_A1|   50|   0|  50|\n",
      "|    xLA_MB51|   58|   0|  58|\n",
      "|    xLA_BG54|  110|   0| 110|\n",
      "|           1|    0| 255|   0|\n",
      "|    xLA_BG55|   31|   0|  31|\n",
      "|    xG1_BG21|  255|   0| 255|\n",
      "|    xG1_BG31|  253|   0| 254|\n",
      "|    xG1_BG20|  254|   0| 255|\n",
      "|    xLA_MB50|   58|   0|  58|\n",
      "|    xK1_MB30|  253|   0| 253|\n",
      "|    xG1_BG32|   40|   0|  40|\n",
      "|    xLA_MB54|   62|   0|  62|\n",
      "|           2|    0| 253|   0|\n",
      "|    xLA_BG53|  109|   0| 109|\n",
      "|    xG1_BG36|  254|   0| 256|\n",
      "|    xLA_BG52|   62|   0|  62|\n",
      "|   connected|    1|   0|   1|\n",
      "|    xU1_BG50|   58|   0|  58|\n",
      "|    xG1_BG30|  253|   0| 253|\n",
      "|    xG1_BG22|   33|   0|  33|\n",
      "|    xG1_BG33|   26|   0|  26|\n",
      "|    xLA_BG56|   84|   0|  84|\n",
      "|    xG1_BG26|  253|   0| 253|\n",
      "|    xG1_BG37|  253|   0| 254|\n",
      "|    xLA_MB53|   16|   0|  17|\n",
      "+------------+-----+----+----+\n",
      "\n"
     ]
    }
   ],
   "source": [
    "df_asr.crosstab('sensor', 'value').show(100)"
   ]
  },
  {
   "cell_type": "markdown",
   "metadata": {},
   "source": [
    "## Heat.json - Ofen\n"
   ]
  },
  {
   "cell_type": "code",
   "execution_count": 32,
   "metadata": {
    "scrolled": true
   },
   "outputs": [
    {
     "name": "stdout",
     "output_type": "stream",
     "text": [
      "root\n",
      " |-- Mes_diONo: string (nullable = true)\n",
      " |-- Mes_diPNo: string (nullable = true)\n",
      " |-- Mes_iOPos: string (nullable = true)\n",
      " |-- Mes_iOpNo: string (nullable = true)\n",
      " |-- Mes_iResourceId: string (nullable = true)\n",
      " |-- broker_timestamp: long (nullable = true)\n",
      " |-- iCarrierID: string (nullable = true)\n",
      " |-- iCode: string (nullable = true)\n",
      " |-- iPar1: string (nullable = true)\n",
      " |-- iPar2: string (nullable = true)\n",
      " |-- iPar3: string (nullable = true)\n",
      " |-- iPar4: string (nullable = true)\n",
      " |-- modul: string (nullable = true)\n",
      " |-- sensor: string (nullable = true)\n",
      " |-- subpart: string (nullable = true)\n",
      " |-- timestamp: long (nullable = true)\n",
      " |-- topic: string (nullable = true)\n",
      " |-- value: string (nullable = true)\n",
      "\n"
     ]
    }
   ],
   "source": [
    "df_Heat = spark.read.json('hdfs://141.56.180.140:9000/user/hadoop/IotTestbed_Dateien/Heat.json')\n",
    "# rename columns\n",
    "df_Heat = df_Heat.withColumnRenamed(\"Mes.diONo\",\"Mes_diONo\")\\\n",
    "        .withColumnRenamed(\"Mes.diPNo\",\"Mes_diPNo\")\\\n",
    "        .withColumnRenamed(\"Mes.iOPos\",\"Mes_iOPos\")\\\n",
    "        .withColumnRenamed(\"Mes.iOpNo\",\"Mes_iOpNo\")\\\n",
    "        .withColumnRenamed(\"Mes.iResourceId\",\"Mes_iResourceId\")\n",
    "df_Heat.createOrReplaceTempView(\"Heat\")\n",
    "df_Heat.printSchema()"
   ]
  },
  {
   "cell_type": "code",
   "execution_count": 24,
   "metadata": {
    "scrolled": true
   },
   "outputs": [
    {
     "name": "stdout",
     "output_type": "stream",
     "text": [
      "+---------+---------+---------+---------+---------------+----------+-----+-----+-----+-----+-----+--------+-------+-----+\n",
      "|Mes_diONo|Mes_diPNo|Mes_iOPos|Mes_iOpNo|Mes_iResourceId|iCarrierID|iCode|iPar1|iPar2|iPar3|iPar4|sensor  |subpart|value|\n",
      "+---------+---------+---------+---------+---------------+----------+-----+-----+-----+-----+-----+--------+-------+-----+\n",
      "|null     |null     |null     |null     |null           |null      |null |null |null |null |null |xG1_BG21|Band1  |true |\n",
      "|null     |null     |null     |null     |null           |null      |null |null |null |null |null |xG1_BG36|Band2  |true |\n",
      "|null     |null     |null     |null     |null           |null      |null |null |null |null |null |xK1_MB20|Band1  |true |\n",
      "|null     |null     |null     |null     |null           |null      |null |null |null |null |null |xG1_BG20|Band1  |true |\n",
      "|null     |null     |null     |null     |null           |null      |null |null |null |null |null |xG1_BG21|Band1  |false|\n",
      "|null     |null     |null     |null     |null           |null      |null |null |null |null |null |xG1_BG36|Band2  |false|\n",
      "|0        |0        |0        |0        |0              |7         |0    |0    |0    |0    |0    |1       |Band1  |null |\n",
      "|null     |null     |null     |null     |null           |null      |null |null |null |null |null |xG1_BG37|Band2  |true |\n",
      "|null     |null     |null     |null     |null           |null      |null |null |null |null |null |xK1_MB20|Band1  |false|\n",
      "|null     |null     |null     |null     |null           |null      |null |null |null |null |null |xG1_BG20|Band1  |false|\n",
      "|null     |null     |null     |null     |null           |null      |null |null |null |null |null |xG1_BG37|Band2  |false|\n",
      "|null     |null     |null     |null     |null           |null      |null |null |null |null |null |xG1_BG26|Band1  |true |\n",
      "|null     |null     |null     |null     |null           |null      |null |null |null |null |null |xG1_BG26|Band1  |false|\n",
      "|null     |null     |null     |null     |null           |null      |null |null |null |null |null |xG1_BG34|Band2  |true |\n",
      "|null     |null     |null     |null     |null           |null      |null |null |null |null |null |xG1_BG27|Band1  |true |\n",
      "|null     |null     |null     |null     |null           |null      |null |null |null |null |null |xG1_BG31|Band2  |true |\n",
      "|null     |null     |null     |null     |null           |null      |null |null |null |null |null |xG1_BG34|Band2  |false|\n",
      "|null     |null     |null     |null     |null           |null      |null |null |null |null |null |xG1_BG27|Band1  |false|\n",
      "|null     |null     |null     |null     |null           |null      |null |null |null |null |null |xK1_MB30|Band2  |true |\n",
      "|null     |null     |null     |null     |null           |null      |null |null |null |null |null |xG1_BG30|Band2  |true |\n",
      "|null     |null     |null     |null     |null           |null      |null |null |null |null |null |xG1_BG31|Band2  |false|\n",
      "|0        |0        |0        |0        |0              |18        |0    |0    |0    |0    |0    |2       |Band2  |null |\n",
      "|null     |null     |null     |null     |null           |null      |null |null |null |null |null |xK1_MB30|Band2  |false|\n",
      "|null     |null     |null     |null     |null           |null      |null |null |null |null |null |xG1_BG30|Band2  |false|\n",
      "|null     |null     |null     |null     |null           |null      |null |null |null |null |null |xG1_BG24|Band1  |true |\n",
      "|null     |null     |null     |null     |null           |null      |null |null |null |null |null |xG1_BG21|Band1  |true |\n",
      "|null     |null     |null     |null     |null           |null      |null |null |null |null |null |xG1_BG24|Band1  |false|\n",
      "|null     |null     |null     |null     |null           |null      |null |null |null |null |null |xG1_BG36|Band2  |true |\n",
      "|null     |null     |null     |null     |null           |null      |null |null |null |null |null |xK1_MB20|Band1  |true |\n",
      "|null     |null     |null     |null     |null           |null      |null |null |null |null |null |xG1_BG20|Band1  |true |\n",
      "+---------+---------+---------+---------+---------------+----------+-----+-----+-----+-----+-----+--------+-------+-----+\n",
      "only showing top 30 rows\n",
      "\n"
     ]
    }
   ],
   "source": [
    "spark.sql(\"SELECT Mes_diONo, Mes_diPNo, Mes_iOPos, Mes_iOpNo, Mes_iResourceId, iCarrierID, iCode, iPar1, iPar2, iPar3, iPar4, sensor, subpart, value FROM asr32\").show(30, False)"
   ]
  },
  {
   "cell_type": "code",
   "execution_count": 29,
   "metadata": {
    "scrolled": true
   },
   "outputs": [
    {
     "name": "stdout",
     "output_type": "stream",
     "text": [
      "+-------+---------+\n",
      "|sensor |value    |\n",
      "+-------+---------+\n",
      "|rActVal|22.518808|\n",
      "|rActVal|22.526043|\n",
      "|rActVal|22.518808|\n",
      "|rActVal|22.526043|\n",
      "+-------+---------+\n",
      "only showing top 4 rows\n",
      "\n"
     ]
    }
   ],
   "source": [
    "spark.sql(\"SELECT sensor, value FROM Heat WHERE value != 'false' AND value != 'true'\").show(4, False)"
   ]
  },
  {
   "cell_type": "markdown",
   "metadata": {},
   "source": [
    "## iMag.json - Magazine Deckel oder Unterschale"
   ]
  },
  {
   "cell_type": "code",
   "execution_count": 18,
   "metadata": {},
   "outputs": [
    {
     "name": "stdout",
     "output_type": "stream",
     "text": [
      "root\n",
      " |-- Mes_diONo: string (nullable = true)\n",
      " |-- Mes_diPNo: string (nullable = true)\n",
      " |-- Mes_iOPos: string (nullable = true)\n",
      " |-- Mes_iOpNo: string (nullable = true)\n",
      " |-- Mes_iResourceId: string (nullable = true)\n",
      " |-- broker_timestamp: long (nullable = true)\n",
      " |-- iCarrierID: string (nullable = true)\n",
      " |-- iCode: string (nullable = true)\n",
      " |-- iPar1: string (nullable = true)\n",
      " |-- iPar2: string (nullable = true)\n",
      " |-- iPar3: string (nullable = true)\n",
      " |-- iPar4: string (nullable = true)\n",
      " |-- modul: string (nullable = true)\n",
      " |-- sensor: string (nullable = true)\n",
      " |-- subpart: string (nullable = true)\n",
      " |-- timestamp: long (nullable = true)\n",
      " |-- topic: string (nullable = true)\n",
      " |-- value: boolean (nullable = true)\n",
      "\n"
     ]
    }
   ],
   "source": [
    "df_imag = spark.read.json('hdfs://141.56.180.140:9000/user/hadoop/IotTestbed_Dateien/iMag.json')\n",
    "# rename columns\n",
    "df_imag = df_imag.withColumnRenamed(\"Mes.diONo\",\"Mes_diONo\")\\\n",
    "        .withColumnRenamed(\"Mes.diPNo\",\"Mes_diPNo\")\\\n",
    "        .withColumnRenamed(\"Mes.iOPos\",\"Mes_iOPos\")\\\n",
    "        .withColumnRenamed(\"Mes.iOpNo\",\"Mes_iOpNo\")\\\n",
    "        .withColumnRenamed(\"Mes.iResourceId\",\"Mes_iResourceId\")                     \n",
    "df_imag.createOrReplaceTempView(\"imag\")\n",
    "df_imag.printSchema()"
   ]
  },
  {
   "cell_type": "code",
   "execution_count": 19,
   "metadata": {},
   "outputs": [
    {
     "name": "stdout",
     "output_type": "stream",
     "text": [
      "+---------+---------+---------+---------+---------------+----------+-----+-----+-----+-----+-----+--------+-------+-----+\n",
      "|Mes_diONo|Mes_diPNo|Mes_iOPos|Mes_iOpNo|Mes_iResourceId|iCarrierID|iCode|iPar1|iPar2|iPar3|iPar4|sensor  |subpart|value|\n",
      "+---------+---------+---------+---------+---------------+----------+-----+-----+-----+-----+-----+--------+-------+-----+\n",
      "|null     |null     |null     |null     |null           |null      |null |null |null |null |null |xG1_BG21|Band1  |true |\n",
      "|null     |null     |null     |null     |null           |null      |null |null |null |null |null |xG1_BG36|Band2  |true |\n",
      "|null     |null     |null     |null     |null           |null      |null |null |null |null |null |xK1_MB20|Band1  |true |\n",
      "|null     |null     |null     |null     |null           |null      |null |null |null |null |null |xG1_BG20|Band1  |true |\n",
      "|null     |null     |null     |null     |null           |null      |null |null |null |null |null |xG1_BG21|Band1  |false|\n",
      "|null     |null     |null     |null     |null           |null      |null |null |null |null |null |xG1_BG36|Band2  |false|\n",
      "|0        |0        |0        |0        |0              |7         |0    |0    |0    |0    |0    |1       |Band1  |null |\n",
      "|null     |null     |null     |null     |null           |null      |null |null |null |null |null |xG1_BG37|Band2  |true |\n",
      "|null     |null     |null     |null     |null           |null      |null |null |null |null |null |xK1_MB20|Band1  |false|\n",
      "|null     |null     |null     |null     |null           |null      |null |null |null |null |null |xG1_BG20|Band1  |false|\n",
      "+---------+---------+---------+---------+---------------+----------+-----+-----+-----+-----+-----+--------+-------+-----+\n",
      "only showing top 10 rows\n",
      "\n"
     ]
    }
   ],
   "source": [
    "spark.sql(\"SELECT Mes_diONo, Mes_diPNo, Mes_iOPos, Mes_iOpNo, Mes_iResourceId, iCarrierID, iCode, iPar1, iPar2, iPar3, iPar4, sensor, subpart, value FROM asr32\").show(10, False)"
   ]
  },
  {
   "cell_type": "markdown",
   "metadata": {},
   "source": [
    "#### Number of Null-Value per Column"
   ]
  },
  {
   "cell_type": "code",
   "execution_count": 21,
   "metadata": {},
   "outputs": [
    {
     "name": "stdout",
     "output_type": "stream",
     "text": [
      "+-----------+----------------+\n",
      "|NULL_VALUES|count(Mes_diONo)|\n",
      "+-----------+----------------+\n",
      "|7312       |508             |\n",
      "+-----------+----------------+\n",
      "\n",
      "+-----------+----------------+\n",
      "|NULL_VALUES|count(Mes_diPNo)|\n",
      "+-----------+----------------+\n",
      "|7312       |508             |\n",
      "+-----------+----------------+\n",
      "\n",
      "+-----------+----------------+\n",
      "|NULL_VALUES|count(Mes_iOPos)|\n",
      "+-----------+----------------+\n",
      "|7312       |508             |\n",
      "+-----------+----------------+\n",
      "\n",
      "+-----------+----------------+\n",
      "|NULL_VALUES|count(Mes_iOpNo)|\n",
      "+-----------+----------------+\n",
      "|7312       |508             |\n",
      "+-----------+----------------+\n",
      "\n",
      "+-----------+----------------------+\n",
      "|NULL_VALUES|count(Mes_iResourceId)|\n",
      "+-----------+----------------------+\n",
      "|7312       |508                   |\n",
      "+-----------+----------------------+\n",
      "\n",
      "+-----------+-----------------------+\n",
      "|NULL_VALUES|count(broker_timestamp)|\n",
      "+-----------+-----------------------+\n",
      "|0          |7820                   |\n",
      "+-----------+-----------------------+\n",
      "\n",
      "+-----------+-----------------+\n",
      "|NULL_VALUES|count(iCarrierID)|\n",
      "+-----------+-----------------+\n",
      "|7312       |508              |\n",
      "+-----------+-----------------+\n",
      "\n",
      "+-----------+------------+\n",
      "|NULL_VALUES|count(iCode)|\n",
      "+-----------+------------+\n",
      "|7312       |508         |\n",
      "+-----------+------------+\n",
      "\n",
      "+-----------+------------+\n",
      "|NULL_VALUES|count(iPar1)|\n",
      "+-----------+------------+\n",
      "|7312       |508         |\n",
      "+-----------+------------+\n",
      "\n",
      "+-----------+------------+\n",
      "|NULL_VALUES|count(iPar2)|\n",
      "+-----------+------------+\n",
      "|7312       |508         |\n",
      "+-----------+------------+\n",
      "\n",
      "+-----------+------------+\n",
      "|NULL_VALUES|count(iPar3)|\n",
      "+-----------+------------+\n",
      "|7312       |508         |\n",
      "+-----------+------------+\n",
      "\n",
      "+-----------+------------+\n",
      "|NULL_VALUES|count(iPar4)|\n",
      "+-----------+------------+\n",
      "|7312       |508         |\n",
      "+-----------+------------+\n",
      "\n",
      "+-----------+------------+\n",
      "|NULL_VALUES|count(modul)|\n",
      "+-----------+------------+\n",
      "|0          |7820        |\n",
      "+-----------+------------+\n",
      "\n",
      "+-----------+-------------+\n",
      "|NULL_VALUES|count(sensor)|\n",
      "+-----------+-------------+\n",
      "|0          |7820         |\n",
      "+-----------+-------------+\n",
      "\n",
      "+-----------+--------------+\n",
      "|NULL_VALUES|count(subpart)|\n",
      "+-----------+--------------+\n",
      "|0          |7820          |\n",
      "+-----------+--------------+\n",
      "\n",
      "+-----------+----------------+\n",
      "|NULL_VALUES|count(timestamp)|\n",
      "+-----------+----------------+\n",
      "|0          |7820            |\n",
      "+-----------+----------------+\n",
      "\n",
      "+-----------+------------+\n",
      "|NULL_VALUES|count(topic)|\n",
      "+-----------+------------+\n",
      "|0          |7820        |\n",
      "+-----------+------------+\n",
      "\n",
      "+-----------+------------+\n",
      "|NULL_VALUES|count(value)|\n",
      "+-----------+------------+\n",
      "|508        |7312        |\n",
      "+-----------+------------+\n",
      "\n"
     ]
    }
   ],
   "source": [
    "for col in df_asr.columns:\n",
    "    sql_string = \"SELECT COUNT(*) - COUNT({}) AS NULL_VALUES, COUNT({}) FROM asr32\".format(col, col)\n",
    "    spark.sql(sql_string).show(20, False)"
   ]
  },
  {
   "cell_type": "markdown",
   "metadata": {},
   "source": [
    "## Mpress.json - Industrie 4.0 Presse\n",
    "has not generated any data"
   ]
  },
  {
   "cell_type": "code",
   "execution_count": null,
   "metadata": {},
   "outputs": [],
   "source": [
    "df_mpress = spark.read.json('hdfs://141.56.180.140:9000/user/hadoop/IotTestbed_Dateien/Mpress.json')\n",
    "df_mpress.createOrReplaceTempView(\"mpress\")"
   ]
  },
  {
   "cell_type": "code",
   "execution_count": null,
   "metadata": {},
   "outputs": [],
   "source": [
    "df_mpress.printSchema()"
   ]
  },
  {
   "cell_type": "code",
   "execution_count": null,
   "metadata": {},
   "outputs": [],
   "source": [
    "spark.sql('SELECT * FROM mpress').show(10, False)"
   ]
  },
  {
   "cell_type": "markdown",
   "metadata": {},
   "source": [
    "## RobotAssembly.json - Robotmontagezelle"
   ]
  },
  {
   "cell_type": "code",
   "execution_count": null,
   "metadata": {},
   "outputs": [],
   "source": [
    "df_robotassembly = spark.read.json('hdfs://141.56.180.140:9000/user/hadoop/IotTestbed_Dateien/RobotAssembly.json')\n",
    "df_robotassembly.createOrReplaceTempView(\"robotassembly\")\n",
    "df_robotassembly.printSchema()"
   ]
  },
  {
   "cell_type": "code",
   "execution_count": null,
   "metadata": {},
   "outputs": [],
   "source": [
    "spark.sql('SELECT sensor, value FROM robotassembly').show(2, False)"
   ]
  },
  {
   "cell_type": "markdown",
   "metadata": {},
   "source": [
    "## ShuntPickByLight.json - Handarbeitsplatz"
   ]
  },
  {
   "cell_type": "code",
   "execution_count": null,
   "metadata": {},
   "outputs": [],
   "source": [
    "df_ShuntPickByLight = spark.read.json('hdfs://141.56.180.140:9000/user/hadoop/IotTestbed_Dateien/ShuntPickByLight.json')\n",
    "df_ShuntPickByLight.createOrReplaceTempView(\"ShuntPickByLight\")\n",
    "df_ShuntPickByLight.printSchema()"
   ]
  },
  {
   "cell_type": "code",
   "execution_count": null,
   "metadata": {},
   "outputs": [],
   "source": [
    "spark.sql('SELECT sensor, value FROM ShuntPickByLight').show(2, False)"
   ]
  },
  {
   "cell_type": "code",
   "execution_count": null,
   "metadata": {},
   "outputs": [],
   "source": [
    "spark.sql('SELECT sensor, value, count(value) FROM ShuntPickByLight GROUP BY sensor, value').show(2, False)"
   ]
  },
  {
   "cell_type": "markdown",
   "metadata": {},
   "source": [
    "## Branch2.json"
   ]
  },
  {
   "cell_type": "code",
   "execution_count": null,
   "metadata": {},
   "outputs": [],
   "source": [
    "df_Branch2 = spark.read.json('hdfs://141.56.180.140:9000/user/hadoop/IotTestbed_Dateien/Branch2.json')\n",
    "df_Branch2.createOrReplaceTempView(\"Branch2\")\n",
    "df_Branch2.printSchema()"
   ]
  },
  {
   "cell_type": "code",
   "execution_count": null,
   "metadata": {},
   "outputs": [],
   "source": [
    "spark.sql('SELECT sensor, value FROM Branch2').show(2, False)"
   ]
  },
  {
   "cell_type": "markdown",
   "metadata": {},
   "source": [
    "## Camera.json - optische Qualitätkontrolle"
   ]
  },
  {
   "cell_type": "code",
   "execution_count": null,
   "metadata": {},
   "outputs": [],
   "source": [
    "df_camera = spark.read.json('hdfs://141.56.180.140:9000/user/hadoop/IotTestbed_Dateien/Camera.json')\n",
    "df_camera.createOrReplaceTempView(\"camera\")\n",
    "df_camera.printSchema()"
   ]
  },
  {
   "cell_type": "code",
   "execution_count": null,
   "metadata": {},
   "outputs": [],
   "source": [
    "spark.sql('SELECT sensor, value FROM camera').show(2, False)"
   ]
  },
  {
   "cell_type": "markdown",
   "metadata": {},
   "source": [
    "## Labeling.json - Etikettiermaschine\n",
    "Daten generieren im Moment nicht möglich"
   ]
  },
  {
   "cell_type": "code",
   "execution_count": null,
   "metadata": {},
   "outputs": [],
   "source": [
    "df_Labeling = spark.read.json('hdfs://141.56.180.140:9000/user/hadoop/IotTestbed_Dateien/Labeling.json')\n",
    "df_Labeling.createOrReplaceTempView(\"Labeling\")\n",
    "df_Labeling.printSchema()"
   ]
  },
  {
   "cell_type": "code",
   "execution_count": null,
   "metadata": {},
   "outputs": [],
   "source": [
    "spark.sql('SELECT sensor, value FROM Labeling').show(2, False)"
   ]
  },
  {
   "cell_type": "markdown",
   "metadata": {},
   "source": [
    "## PressPneu.json - Presse vor Robotor Zelle"
   ]
  },
  {
   "cell_type": "code",
   "execution_count": null,
   "metadata": {},
   "outputs": [],
   "source": [
    "df_PressPneu = spark.read.json('hdfs://141.56.180.140:9000/user/hadoop/IotTestbed_Dateien/PressPneu.json')\n",
    "df_PressPneu.createOrReplaceTempView(\"PressPneu\")\n",
    "df_PressPneu.printSchema()"
   ]
  },
  {
   "cell_type": "code",
   "execution_count": null,
   "metadata": {},
   "outputs": [],
   "source": [
    "spark.sql('SELECT sensor, value FROM PressPneu').show(2, False)"
   ]
  },
  {
   "cell_type": "markdown",
   "metadata": {},
   "source": [
    "## RobotDocking.json - Weiche zu Robotor"
   ]
  },
  {
   "cell_type": "code",
   "execution_count": null,
   "metadata": {},
   "outputs": [],
   "source": [
    "df_RobotDocking = spark.read.json('hdfs://141.56.180.140:9000/user/hadoop/IotTestbed_Dateien/RobotDocking.json')\n",
    "df_RobotDocking.createOrReplaceTempView(\"RobotDocking\")\n",
    "df_RobotDocking.printSchema()"
   ]
  },
  {
   "cell_type": "code",
   "execution_count": null,
   "metadata": {},
   "outputs": [],
   "source": [
    "spark.sql('SELECT sensor, value FROM RobotDocking').show(2, False)"
   ]
  },
  {
   "cell_type": "markdown",
   "metadata": {},
   "source": [
    "## ShuntMagazineBack.json - Magazine Deckel oder Unterschale"
   ]
  },
  {
   "cell_type": "code",
   "execution_count": null,
   "metadata": {},
   "outputs": [],
   "source": [
    "df_ShuntMagazineBack = spark.read.json('hdfs://141.56.180.140:9000/user/hadoop/IotTestbed_Dateien/ShuntMagazineBack.json')\n",
    "df_ShuntMagazineBack.createOrReplaceTempView(\"ShuntMagazineBack\")\n",
    "df_ShuntMagazineBack.printSchema()"
   ]
  },
  {
   "cell_type": "code",
   "execution_count": null,
   "metadata": {},
   "outputs": [],
   "source": [
    "spark.sql('SELECT sensor, value FROM ShuntMagazineBack').show(2, False)"
   ]
  },
  {
   "cell_type": "markdown",
   "metadata": {},
   "source": [
    " \n",
    "## Turn.json - Wenden - Greifarm\n"
   ]
  },
  {
   "cell_type": "code",
   "execution_count": null,
   "metadata": {},
   "outputs": [],
   "source": [
    "df_Turn = spark.read.json('hdfs://141.56.180.140:9000/user/hadoop/IotTestbed_Dateien/Turn.json')\n",
    "df_Turn.createOrReplaceTempView(\"Turn\")\n",
    "df_Turn.printSchema()"
   ]
  },
  {
   "cell_type": "code",
   "execution_count": null,
   "metadata": {},
   "outputs": [],
   "source": [
    "spark.sql('SELECT sensor, value FROM Turn').show(2, False)"
   ]
  },
  {
   "cell_type": "markdown",
   "metadata": {},
   "source": [
    "## Counter.json - Anzahl an Carrier die passieren\n"
   ]
  },
  {
   "cell_type": "code",
   "execution_count": null,
   "metadata": {
    "scrolled": true
   },
   "outputs": [],
   "source": [
    "df_counter = spark.read.json('hdfs://141.56.180.140:9000/user/hadoop/IotTestbed_Dateien/Counter.json')\n",
    "df_counter.createOrReplaceTempView(\"counter\")\n",
    "df_counter.printSchema()"
   ]
  },
  {
   "cell_type": "code",
   "execution_count": null,
   "metadata": {
    "scrolled": true
   },
   "outputs": [],
   "source": [
    "spark.sql('SELECT * FROM counter').show(10, False)"
   ]
  },
  {
   "cell_type": "markdown",
   "metadata": {},
   "source": [
    "## RobotMill.json - CNC Maschine - nicht aktiv"
   ]
  },
  {
   "cell_type": "code",
   "execution_count": null,
   "metadata": {},
   "outputs": [],
   "source": [
    "df_robotmill = spark.read.json('hdfs://141.56.180.140:9000/user/hadoop/IotTestbed_Dateien/RobotMill.json')\n",
    "df_robotmill.createOrReplaceTempView(\"robotmill\")\n",
    "df_robotmill.printSchema()"
   ]
  },
  {
   "cell_type": "code",
   "execution_count": null,
   "metadata": {},
   "outputs": [],
   "source": [
    "spark.sql('SELECT sensor, value, count(value) FROM robotmill GROUP BY sensor, value').show(2, False)"
   ]
  },
  {
   "cell_type": "markdown",
   "metadata": {},
   "source": [
    "## BypassRD.json -  Materialbelieferung/entnahme - nicht aktiv"
   ]
  },
  {
   "cell_type": "code",
   "execution_count": null,
   "metadata": {},
   "outputs": [],
   "source": [
    "df_bypassrd = spark.read.json('hdfs://141.56.180.140:9000/user/hadoop/IotTestbed_Dateien/BypassRD.json')\n",
    "df_bypassrd.createOrReplaceTempView(\"bypassrd\")"
   ]
  },
  {
   "cell_type": "code",
   "execution_count": null,
   "metadata": {},
   "outputs": [],
   "source": [
    "df_bypassrd.printSchema()"
   ]
  },
  {
   "cell_type": "code",
   "execution_count": null,
   "metadata": {},
   "outputs": [],
   "source": [
    "spark.sql('SELECT sensor, value FROM bypassrd').show(10, False)"
   ]
  }
 ],
 "metadata": {
  "kernelspec": {
   "display_name": "Python 3",
   "language": "python",
   "name": "python3"
  },
  "language_info": {
   "codemirror_mode": {
    "name": "ipython",
    "version": 3
   },
   "file_extension": ".py",
   "mimetype": "text/x-python",
   "name": "python",
   "nbconvert_exporter": "python",
   "pygments_lexer": "ipython3",
   "version": "3.6.8"
  }
 },
 "nbformat": 4,
 "nbformat_minor": 2
}
