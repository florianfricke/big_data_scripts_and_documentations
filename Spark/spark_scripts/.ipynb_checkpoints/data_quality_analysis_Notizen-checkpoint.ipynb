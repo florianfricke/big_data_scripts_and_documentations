{
 "cells": [
  {
   "cell_type": "markdown",
   "metadata": {},
   "source": [
    "* statistische Tests (Verteilungstest) pro Sensor mit Zahlenausp\n",
    "* unterschiedliche Datentypen pro Sensor\n",
    "* Oultier Quantile Stack Overflow\n",
    "\n",
    "fehlende Werte, fehlerhafte Daten, verschiedene Datentypen"
   ]
  },
  {
   "cell_type": "code",
   "execution_count": null,
   "metadata": {},
   "outputs": [],
   "source": [
    "{\"broker_timestamp\":1576770850896,\"iCarrierID\":\"20\",\"Mes.iResourceId\":\"0\",\n",
    " \"Mes.diPNo\":\"0\",\"Mes.diONo\":\"0\",\"iCode\":\"0\",\"iPar4\":\"0\",\"iPar1\":\"0\",\"iPar3\":\"0\",\n",
    " \"iPar2\":\"0\",\"Mes.iOpNo\":\"0\",\"Mes.iOPos\":\"0\",\"timestamp\":1576770825945,\"modul\":\"ASR32\",\n",
    " \"subpart\":\"Band2\",\"sensor\":\"2\",\"topic\":\"Festo/ASR32/Band2/Stopper2/RFID/2\"}\n",
    "\n",
    "{\"broker_timestamp\":1576771321127,\"value\":false,\"timestamp\":1576771321127,\n",
    " \"modul\":\"ASR32\",\"subpart\":\"connected\",\"sensor\":\"connected\",\"topic\":\"Festo/ASR32/connected\"}"
   ]
  },
  {
   "cell_type": "markdown",
   "metadata": {},
   "source": [
    "MQTT Topic: `Festo/CECC_Energy4/rActivePowerInt`\n",
    "Festo = Hersteller der Anlage\n",
    "\n",
    "`Festo` = Main Topic\n",
    "\n",
    "`CECC_Energy4` = Modul\n",
    "\n",
    "`rActivePowerInt` = Sensor/Variable (bspw. Temp, Luftfeuchte, hier Stromstärke)\n",
    "\n",
    "`value` = 11.417114, (Stromstärke) = 11 mA\n"
   ]
  },
  {
   "cell_type": "code",
   "execution_count": null,
   "metadata": {},
   "outputs": [],
   "source": [
    "{\n",
    "    \"_id\": \"000000fb-254a-32f0-8a0a-de2c4b99c318\",\n",
    "    \"_rev\": \"1-5ec01a352817f926cce32abdac1793d8\",\n",
    "    \"timestamp\": 1520431262359, //Wann Sensor die Daten erzeugt hat\n",
    "    \"modul\": \"CECC_Energy1\",\n",
    "    \"value\": 11.417114, //je Sensor unterschiedlich, kann boolean oder float wert sein\n",
    "    \"topic\": \"Festo/CECC_Energy1/rActivePowerInt\", //immer Festo (main topic)/Anlage(Modul)/Sensor\n",
    "    \"Sensor\": \"rActivePowerInt\" //Elektrische Kennzahlen, Spannung/Stromstärke in 3 Phasen + Luftdruck bei Modul Energy\n",
    "}\n",
    "{\n",
    "    \"_id\": \"0000057b-7107-3939-abb2-86eb0d781444\",\n",
    "    \"_rev\": \"1-0d01667a3ca5317dd9e5526b47222f8d\",\n",
    "    \"subpart0\": \"Robotino\",\n",
    "    \"timestamp\": 1515656242170,\n",
    "    \"modul\": \"ShuntMagazineBack\",\n",
    "    \"value\": false,\n",
    "    \"topic\": \"Festo/ShuntMagazineBack/Robotino/xW1_GF38\", //befindet sich ein Obj. unter mir\n",
    "    \"Sensor\": \"xW1_GF38\"\n",
    "}\n",
    "\n",
    "//BG Snesoren Boolean: befindet sich ein Produkt vor mir --> aber nur bei Veränderung\n",
    "//xW1_GF38 --> GF38 Sensor\n",
    "//grafischer Verlauf"
   ]
  },
  {
   "cell_type": "markdown",
   "metadata": {},
   "source": [
    " `\n",
    " |-- Mes.diONo: string (nullable = true) - Auftragsnummer\n",
    " |-- Mes.diPNo: string (nullable = true) - Produktnummer\n",
    " |-- Mes.iOPos: string (nullable = true) - Orderposition (Position bei bpsw. 10 gleichen Produkten - Position im Auftrag\n",
    " |-- Mes.iOpNo: string (nullable = true) - Operationnr. (Arbeitsgang der ausegführt werden soll) - nächte Schritt\n",
    " |-- Mes.iResourceId: string (nullable = true) - nächste Applikation/Station\n",
    " |-- value: boolean (nullable = true) - Ist RFID Scanner belegt\n",
    " |-- iCarrierID: string (nullable = true)\n",
    " |-- iCode: string (nullable = true)\n",
    " |-- iPar1: string (nullable = true) - sollten EMPTY sein\n",
    " |-- iPar2: string (nullable = true) - sollten EMPTY sein\n",
    " |-- iPar3: string (nullable = true) - sollten EMPTY sein\n",
    " |-- iPar4: string (nullable = true) - sollten EMPTY sein\n",
    " `"
   ]
  },
  {
   "cell_type": "code",
   "execution_count": null,
   "metadata": {},
   "outputs": [],
   "source": [
    "train.groupby('Age').agg({'Purchase': 'mean'}).show()"
   ]
  },
  {
   "cell_type": "markdown",
   "metadata": {},
   "source": [
    "`Output:\n",
    "+-----+-----------------+\n",
    "|  Age|    avg(Purchase)|\n",
    "+-----+-----------------+\n",
    "|51-55|9534.808030960236|\n",
    "|46-50|9208.625697468327|\n",
    "| 0-17|8933.464640444974|\n",
    "|36-45|9331.350694917874|\n",
    "|26-35|9252.690632869888|\n",
    "|  55+|9336.280459449405|\n",
    "|18-25|9169.663606261289|\n",
    "+-----+-----------------+\n",
    "`"
   ]
  },
  {
   "cell_type": "code",
   "execution_count": 2,
   "metadata": {},
   "outputs": [],
   "source": [
    "import findspark\n",
    "findspark.init() #necessary to find the local spark\n",
    "import pandas as pd\n",
    "from tqdm import tqdm_notebook as tqdm\n",
    "from pyspark.sql import Row, SparkSession\n",
    "from pyspark import SparkContext\n",
    "from pyspark.sql.types import IntegerType, StringType, DoubleType, BooleanType, TimestampType, StructField, StructType\n",
    "from pyspark.sql.functions import col, sum"
   ]
  },
  {
   "cell_type": "code",
   "execution_count": 3,
   "metadata": {},
   "outputs": [],
   "source": [
    "sc = SparkContext()\n",
    "spark = SparkSession.builder\\\n",
    "        .getOrCreate()"
   ]
  },
  {
   "cell_type": "markdown",
   "metadata": {},
   "source": [
    "### Check duplicates"
   ]
  },
  {
   "cell_type": "code",
   "execution_count": 7,
   "metadata": {},
   "outputs": [
    {
     "name": "stdout",
     "output_type": "stream",
     "text": [
      "+---+-----+\n",
      "|age| name|\n",
      "+---+-----+\n",
      "|  1|Alice|\n",
      "|  1|  Bob|\n",
      "|  1|  Bob|\n",
      "|  3|Alice|\n",
      "|  1|Alice|\n",
      "+---+-----+\n",
      "\n"
     ]
    }
   ],
   "source": [
    "# check functionality\n",
    "d = [{'name': 'Alice', 'age': 1},{'name': 'Bob', 'age': 1},{'name': 'Bob', 'age': 1},{'name': 'Alice', 'age': 3},{'name': 'Alice', 'age': 1}]\n",
    "df2 = spark.createDataFrame(d)\n",
    "df2.createOrReplaceTempView(\"df2\")\n",
    "df2.show()"
   ]
  },
  {
   "cell_type": "code",
   "execution_count": 8,
   "metadata": {},
   "outputs": [
    {
     "name": "stdout",
     "output_type": "stream",
     "text": [
      "+---+-----+-----+\n",
      "|age| name|count|\n",
      "+---+-----+-----+\n",
      "|  1|Alice|    2|\n",
      "|  1|  Bob|    2|\n",
      "+---+-----+-----+\n",
      "\n"
     ]
    }
   ],
   "source": [
    "df2.groupBy(df2.columns)\\\n",
    "    .count()\\\n",
    "    .where(col('count') > 1)\\\n",
    "    .show()\n",
    "#     .select(sum('count'))\\"
   ]
  },
  {
   "cell_type": "code",
   "execution_count": null,
   "metadata": {},
   "outputs": [],
   "source": [
    "# def rename_columns(df, columns):\n",
    "#     for col in columns:\n",
    "#         print(\"{}_{}\".format(col.split(\".\")[0],col.split(\".\")[1]))\n",
    "#         print(col)\n",
    "#         df.withColumnRenamed(col,\"{}_{}\".format(col.split(\".\")[0],col.split(\".\")[1])) \n",
    "# rename_columns(df3,['Mes.diONo'])"
   ]
  },
  {
   "cell_type": "code",
   "execution_count": 21,
   "metadata": {},
   "outputs": [
    {
     "name": "stdout",
     "output_type": "stream",
     "text": [
      "+---+-----+--------+\n",
      "|age|name |count(1)|\n",
      "+---+-----+--------+\n",
      "|1  |Alice|2       |\n",
      "|1  |Bob  |2       |\n",
      "+---+-----+--------+\n",
      "\n"
     ]
    }
   ],
   "source": [
    "spark.sql(\"SELECT age, name, COUNT(*) FROM df2 GROUP BY age, name HAVING COUNT(*) > 1\").show(1000, False)"
   ]
  },
  {
   "cell_type": "code",
   "execution_count": null,
   "metadata": {},
   "outputs": [],
   "source": []
  }
 ],
 "metadata": {
  "kernelspec": {
   "display_name": "Python 3",
   "language": "python",
   "name": "python3"
  },
  "language_info": {
   "codemirror_mode": {
    "name": "ipython",
    "version": 3
   },
   "file_extension": ".py",
   "mimetype": "text/x-python",
   "name": "python",
   "nbconvert_exporter": "python",
   "pygments_lexer": "ipython3",
   "version": "3.6.8"
  }
 },
 "nbformat": 4,
 "nbformat_minor": 2
}
