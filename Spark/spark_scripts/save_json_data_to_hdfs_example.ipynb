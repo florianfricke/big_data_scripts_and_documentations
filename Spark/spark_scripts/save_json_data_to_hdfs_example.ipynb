{
 "cells": [
  {
   "cell_type": "markdown",
   "metadata": {},
   "source": [
    "# Example: Save Data into HDFS\n",
    "The notebook saves json data from a dataframe into hdfs.\n",
    "To load example data into the hdfs, use the load_data_from_hdfs notebook."
   ]
  },
  {
   "cell_type": "code",
   "execution_count": null,
   "metadata": {},
   "outputs": [],
   "source": [
    "import findspark\n",
    "findspark.init() #necessary to find the local spark\n",
    "from pyspark.sql.types import IntegerType, StringType, DoubleType, BooleanType, TimestampType, StructField, StructType\n",
    "from pyspark.sql import Row, SparkSession\n",
    "from pyspark import SparkContext"
   ]
  },
  {
   "cell_type": "code",
   "execution_count": null,
   "metadata": {},
   "outputs": [],
   "source": [
    "sc = SparkContext()\n",
    "spark = SparkSession.builder\\\n",
    "        .getOrCreate()"
   ]
  },
  {
   "cell_type": "markdown",
   "metadata": {},
   "source": [
    "#### define the structure of the dataframe"
   ]
  },
  {
   "cell_type": "code",
   "execution_count": null,
   "metadata": {},
   "outputs": [],
   "source": [
    "schema = StructType([\n",
    "  StructField('Address',StringType(), True),\n",
    "  StructField('AlarmProfile',StringType(), True),\n",
    "  StructField('CAN',StringType(), True),\n",
    "  StructField('Chain',StringType(), True),\n",
    "  StructField('Time',StringType(), True),\n",
    "  StructField('Time2',StringType(), True)\n",
    "])"
   ]
  },
  {
   "cell_type": "markdown",
   "metadata": {},
   "source": [
    "#### create json mockdata and insert it into a dataframe"
   ]
  },
  {
   "cell_type": "code",
   "execution_count": null,
   "metadata": {},
   "outputs": [],
   "source": [
    "jsonStrings = ['{\"Address\":\"22.79.52.79\", \"AlarmProfile\":\"-1\", \"CAN\":\"0\", \"Chain\":\"2\", \"Time2\":\"34\"}',\n",
    "               '{\"Address\":\"22.79.52.79\", \"AlarmProfile\":\"10\", \"CAN\":\"20\", \"Chain\":\"2\", \"Time\":\"23\", \"Time2\":\"34\"}']\n",
    "otherPeopleRDD = sc.parallelize(jsonStrings)\n",
    "df = spark.read.json(otherPeopleRDD, schema=schema)\n",
    "df.show()"
   ]
  },
  {
   "cell_type": "markdown",
   "metadata": {},
   "source": [
    "#### write the data frame as parquet file into hdfs"
   ]
  },
  {
   "cell_type": "code",
   "execution_count": null,
   "metadata": {},
   "outputs": [],
   "source": [
    "df.write.save(\"hdfs://192.168.0.10:9000/user/hadoop/books/example.parquet\", format=\"parquet\", mode=\"append\")\n",
    "#df.write.csv(\"hdfs://192.168.0.10:9000/user/hadoop/books/example.csv\")"
   ]
  }
 ],
 "metadata": {
  "kernelspec": {
   "display_name": "Python 3",
   "language": "python",
   "name": "python3"
  },
  "language_info": {
   "codemirror_mode": {
    "name": "ipython",
    "version": 3
   },
   "file_extension": ".py",
   "mimetype": "text/x-python",
   "name": "python",
   "nbconvert_exporter": "python",
   "pygments_lexer": "ipython3",
   "version": "3.7.3"
  }
 },
 "nbformat": 4,
 "nbformat_minor": 2
}
